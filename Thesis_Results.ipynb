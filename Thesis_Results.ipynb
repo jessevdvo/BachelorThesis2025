{
  "nbformat": 4,
  "nbformat_minor": 0,
  "metadata": {
    "colab": {
      "provenance": []
    },
    "kernelspec": {
      "name": "python3",
      "display_name": "Python 3"
    },
    "language_info": {
      "name": "python"
    }
  },
  "cells": [
    {
      "cell_type": "markdown",
      "source": [
        "1. Linking Google Drive"
      ],
      "metadata": {
        "id": "GSm9EHmNdict"
      }
    },
    {
      "cell_type": "code",
      "source": [
        "from google.colab import drive\n",
        "drive.mount('/content/drive')"
      ],
      "metadata": {
        "colab": {
          "base_uri": "https://localhost:8080/"
        },
        "id": "d7juD65nvjaa",
        "outputId": "be91a9fc-85db-4295-8641-21bf0e1f88f8"
      },
      "execution_count": 1,
      "outputs": [
        {
          "output_type": "stream",
          "name": "stdout",
          "text": [
            "Drive already mounted at /content/drive; to attempt to forcibly remount, call drive.mount(\"/content/drive\", force_remount=True).\n"
          ]
        }
      ]
    },
    {
      "cell_type": "markdown",
      "source": [
        "2. Loading the Data"
      ],
      "metadata": {
        "id": "R8Ajne_Pdqq1"
      }
    },
    {
      "cell_type": "code",
      "execution_count": 2,
      "metadata": {
        "id": "pS73pwKde6M4",
        "colab": {
          "base_uri": "https://localhost:8080/"
        },
        "outputId": "f6a427d1-916d-4741-c7e3-96807b597c70"
      },
      "outputs": [
        {
          "output_type": "stream",
          "name": "stdout",
          "text": [
            "    participant_id condition  words_recalled order_group  age  gender  \\\n",
            "0                1        rw               5    rw_first   27    Male   \n",
            "1                1        vr               8    rw_first   27    Male   \n",
            "2                2        rw               2    rw_first   26  Female   \n",
            "3                2        vr               4    rw_first   26  Female   \n",
            "4                3        rw               8    vr_first   24    Male   \n",
            "5                3        vr               8    vr_first   24    Male   \n",
            "6                4        rw               5    rw_first   23    Male   \n",
            "7                4        vr               6    rw_first   23    Male   \n",
            "8                5        rw               6    vr_first   22  Female   \n",
            "9                5        vr               8    vr_first   22  Female   \n",
            "10               6        rw               7    vr_first   21  Female   \n",
            "11               6        vr               7    vr_first   21  Female   \n",
            "12               7        rw               8    vr_first   20    Male   \n",
            "13               7        vr               8    vr_first   20    Male   \n",
            "14               8        rw               5    rw_first   19  Female   \n",
            "15               8        vr               7    rw_first   19  Female   \n",
            "16               9        rw               5    rw_first   25    Male   \n",
            "17               9        vr               4    rw_first   25    Male   \n",
            "18              10        rw               5    vr_first   18    Male   \n",
            "19              10        vr               6    vr_first   18    Male   \n",
            "20              11        rw               4    vr_first   28  Female   \n",
            "21              11        vr               5    vr_first   28  Female   \n",
            "22              12        rw               6    rw_first   24    Male   \n",
            "23              12        vr               6    rw_first   24    Male   \n",
            "24              13        rw               7    rw_first   19    Male   \n",
            "25              13        vr               9    rw_first   19    Male   \n",
            "26              14        rw               5    rw_first   26  Female   \n",
            "27              14        vr               8    rw_first   26  Female   \n",
            "28              15        rw               6    vr_first   21    Male   \n",
            "29              15        vr               5    vr_first   21    Male   \n",
            "30              16        rw               6    rw_first   23  Female   \n",
            "31              16        vr               7    rw_first   23  Female   \n",
            "32              17        rw               7    vr_first   20  Female   \n",
            "33              17        vr              10    vr_first   20  Female   \n",
            "34              18        rw               3    vr_first   22    Male   \n",
            "35              18        vr               7    vr_first   22    Male   \n",
            "36              19        rw               5    rw_first   25  Female   \n",
            "37              19        vr               5    rw_first   25  Female   \n",
            "38              20        rw               7    vr_first   28    Male   \n",
            "39              20        vr               5    vr_first   28    Male   \n",
            "40              21        rw               6    rw_first   18  Female   \n",
            "41              21        vr               9    rw_first   18  Female   \n",
            "42              22        rw               4    vr_first   27    Male   \n",
            "43              22        vr               4    vr_first   27    Male   \n",
            "44              23        rw               4    vr_first   26    Male   \n",
            "45              23        vr               3    vr_first   26    Male   \n",
            "46              24        rw               7    vr_first   19  Female   \n",
            "47              24        vr               8    vr_first   19  Female   \n",
            "48              25        rw               5    rw_first   20    Male   \n",
            "49              25        vr               4    rw_first   20    Male   \n",
            "50              26        rw               2    vr_first   22  Female   \n",
            "51              26        vr               2    vr_first   22  Female   \n",
            "52              27        rw               7    rw_first   24  Female   \n",
            "53              27        vr               8    rw_first   24  Female   \n",
            "54              28        rw               6    rw_first   23    Male   \n",
            "55              28        vr              10    rw_first   23    Male   \n",
            "56              29        rw               4    rw_first   21    Male   \n",
            "57              29        vr               6    rw_first   21    Male   \n",
            "\n",
            "    ipq_score_sp  ipq_score_inv  ipq_score_real  ipq_score_pr  \n",
            "0            2.4           2.75            0.50             3  \n",
            "1            2.4           2.75            0.50             3  \n",
            "2            1.6           1.75            1.00             3  \n",
            "3            1.6           1.75            1.00             3  \n",
            "4            1.8           1.00            0.50             1  \n",
            "5            1.8           1.00            0.50             1  \n",
            "6            1.0           1.75           -0.50             2  \n",
            "7            1.0           1.75           -0.50             2  \n",
            "8            2.2           1.25            0.50             2  \n",
            "9            2.2           1.25            0.50             2  \n",
            "10           1.4           0.75            0.50             1  \n",
            "11           1.4           0.75            0.50             1  \n",
            "12           2.0           1.00            0.00             2  \n",
            "13           2.0           1.00            0.00             2  \n",
            "14           2.2           1.75            1.00             3  \n",
            "15           2.2           1.75            1.00             3  \n",
            "16           1.4           0.75           -0.50             1  \n",
            "17           1.4           0.75           -0.50             1  \n",
            "18           1.6           1.25            0.50             2  \n",
            "19           1.6           1.25            0.50             2  \n",
            "20           1.0           1.75            1.25             2  \n",
            "21           1.0           1.75            1.25             2  \n",
            "22           0.6           1.50           -0.50             1  \n",
            "23           0.6           1.50           -0.50             1  \n",
            "24           2.2           2.50            0.50             3  \n",
            "25           2.2           2.50            0.50             3  \n",
            "26           2.4           2.50            0.00             2  \n",
            "27           2.4           2.50            0.00             2  \n",
            "28           1.8           0.50            0.50             1  \n",
            "29           1.8           0.50            0.50             1  \n",
            "30           1.8           1.50           -0.50             2  \n",
            "31           1.8           1.50           -0.50             2  \n",
            "32           2.0           2.00            0.50             3  \n",
            "33           2.0           2.00            0.50             3  \n",
            "34           2.4           2.50            1.00             3  \n",
            "35           2.4           2.50            1.00             3  \n",
            "36           2.0           1.25            1.00             2  \n",
            "37           2.0           1.25            1.00             2  \n",
            "38           1.0           1.00           -0.50             2  \n",
            "39           1.0           1.00           -0.50             2  \n",
            "40           1.4           2.25           -0.50             3  \n",
            "41           1.4           2.25           -0.50             3  \n",
            "42           1.6           1.50            0.25             1  \n",
            "43           1.6           1.50            0.25             1  \n",
            "44           1.8           1.25            0.50             1  \n",
            "45           1.8           1.25            0.50             1  \n",
            "46           1.6           1.50            1.50             1  \n",
            "47           1.6           1.50            1.50             1  \n",
            "48           1.0           1.25            1.00             1  \n",
            "49           1.0           1.25            1.00             1  \n",
            "50           2.0           1.50            0.25             2  \n",
            "51           2.0           1.50            0.25             2  \n",
            "52           1.4           2.25            1.00             2  \n",
            "53           1.4           2.25            1.00             2  \n",
            "54           2.2           2.75            0.25             3  \n",
            "55           2.2           2.75            0.25             3  \n",
            "56           1.8           2.25            0.50             2  \n",
            "57           1.8           2.25            0.50             2  \n"
          ]
        }
      ],
      "source": [
        "import pandas as pd\n",
        "\n",
        "df = pd.read_excel(\"/content/drive/MyDrive/Thesis Spring 2025/experiment_results.xlsx\")\n",
        "print(df)"
      ]
    },
    {
      "cell_type": "markdown",
      "source": [
        "3. Descriptive Statistics"
      ],
      "metadata": {
        "id": "_SglkrqcdxOz"
      }
    },
    {
      "cell_type": "code",
      "source": [
        "#Mean and std for real world condition 1\n",
        "rw_stats = df[df['condition'] == 'rw']['words_recalled'].agg(['mean', 'std'])\n",
        "\n",
        "#Mean and std for virtual reality condition 2\n",
        "vr_stats = df[df['condition'] == 'vr']['words_recalled'].agg(['mean', 'std'])\n",
        "\n",
        "print(\"Mean of Real World environment:\", round(rw_stats['mean'], 2))\n",
        "print(\"Standard Deviation of Real World environment:\", round(rw_stats['std'], 2))\n",
        "print(\"Mean of VR environment:\", round(vr_stats['mean'], 2))\n",
        "print(\"Standard Deviation of VR environment:\", round(vr_stats['std'], 2))\n"
      ],
      "metadata": {
        "colab": {
          "base_uri": "https://localhost:8080/"
        },
        "id": "BgzdgADvlCcu",
        "outputId": "53a9e16c-c5bb-493b-cc3f-5355e1ed3fd3"
      },
      "execution_count": 3,
      "outputs": [
        {
          "output_type": "stream",
          "name": "stdout",
          "text": [
            "Mean of Real World environment: 5.41\n",
            "Standard Deviation of Real World environment: 1.57\n",
            "Mean of VR environment: 6.45\n",
            "Standard Deviation of VR environment: 2.08\n"
          ]
        }
      ]
    },
    {
      "cell_type": "code",
      "source": [
        "#Minimum and maximum amount of words recalled per condition\n",
        "rw_min_words = df[df['condition'] == 'rw']['words_recalled'].min()\n",
        "rw_max_words = df[df['condition'] == 'rw']['words_recalled'].max()\n",
        "vr_min_words = df[df['condition'] == 'vr']['words_recalled'].min()\n",
        "vr_max_words = df[df['condition'] == 'vr']['words_recalled'].max()\n",
        "\n",
        "#All the statistics on age\n",
        "age_stats = df[['participant_id', 'age']].drop_duplicates()['age'].agg(['mean', 'std', 'min', 'max'])\n",
        "\n",
        "#Gender counts per condition (should be the same since it is within-subject experiment design)\n",
        "gender_counts = df.groupby(['condition', 'gender'])['participant_id'].nunique().unstack(fill_value=0)\n",
        "\n",
        "print(f\"RW words recalled: Mean={rw_stats['mean']:.2f}, SD={rw_stats['std']:.2f}, Min={rw_min_words}, Max={rw_max_words}\")\n",
        "print(f\"VR words recalled: Mean={vr_stats['mean']:.2f}, SD={vr_stats['std']:.2f}, Min={vr_min_words}, Max={vr_max_words}\")\n",
        "\n",
        "print(f\"Age (all participants): Mean={age_stats['mean']:.2f}, SD={age_stats['std']:.2f}, Min={age_stats['min']}, Max={age_stats['max']}\\n\")\n",
        "\n",
        "print(\"Gender counts per condition:\")\n",
        "print(gender_counts)\n"
      ],
      "metadata": {
        "colab": {
          "base_uri": "https://localhost:8080/"
        },
        "id": "POepKKaTeVqq",
        "outputId": "a05ed586-8997-4667-fbad-2e0a16ef2bb6"
      },
      "execution_count": 4,
      "outputs": [
        {
          "output_type": "stream",
          "name": "stdout",
          "text": [
            "RW words recalled: Mean=5.41, SD=1.57, Min=2, Max=8\n",
            "VR words recalled: Mean=6.45, SD=2.08, Min=2, Max=10\n",
            "Age (all participants): Mean=22.79, SD=3.04, Min=18.0, Max=28.0\n",
            "\n",
            "Gender counts per condition:\n",
            "gender     Female  Male\n",
            "condition              \n",
            "rw             13    16\n",
            "vr             13    16\n"
          ]
        }
      ]
    },
    {
      "cell_type": "markdown",
      "source": [
        "4. Check Basic Statistical Assumptions on the Data"
      ],
      "metadata": {
        "id": "KWJIA8zDfjN9"
      }
    },
    {
      "cell_type": "code",
      "source": [
        "from scipy.stats import shapiro\n",
        "import matplotlib.pyplot as plt\n",
        "import scipy.stats as stats\n",
        "\n",
        "#Pivot the data to wide format so we have one row per participant instead of two\n",
        "pivoted = df.pivot(index='participant_id', columns='condition', values='words_recalled')\n",
        "\n",
        "#Calculate difference scores (VR - RW)\n",
        "pivoted['difference'] = pivoted['vr'] - pivoted['rw']\n",
        "\n",
        "#Shapiro-Wilk test to check for normality\n",
        "stat, p = shapiro(pivoted['difference'])\n",
        "print(f\"Shapiro-Wilk W statistic: {stat:.4f}\")\n",
        "print(f\"Shapiro-Wilk p-value: {p:.4f}\")\n",
        "\n",
        "if p > 0.05:\n",
        "    print(\"The data is normally distributed.\")\n",
        "else:\n",
        "    print(\"The data is not normally distributed.\")\n",
        "\n",
        "#Plot histogram and Q-Q plot for visuals in the appendix\n",
        "plt.hist(pivoted['difference'], bins=10, edgecolor='black')\n",
        "plt.title(\"Histogram of Difference Scores (VR - RW)\")\n",
        "plt.xlabel(\"Difference in Recalled Words\")\n",
        "plt.ylabel(\"Frequency\")\n",
        "plt.show()\n",
        "\n",
        "stats.probplot(pivoted['difference'], dist=\"norm\", plot=plt)\n",
        "plt.title(\"Q-Q Plot of Difference Scores\")\n",
        "plt.show()\n"
      ],
      "metadata": {
        "colab": {
          "base_uri": "https://localhost:8080/",
          "height": 979
        },
        "id": "h0UonFOZvdux",
        "outputId": "e0a3f347-7033-4796-e754-4de5fe487486"
      },
      "execution_count": 5,
      "outputs": [
        {
          "output_type": "stream",
          "name": "stdout",
          "text": [
            "Shapiro-Wilk W statistic: 0.9521\n",
            "Shapiro-Wilk p-value: 0.2072\n",
            "The data is normally distributed.\n"
          ]
        },
        {
          "output_type": "display_data",
          "data": {
            "text/plain": [
              "<Figure size 640x480 with 1 Axes>"
            ],
            "image/png": "[encoded data removed]"
          },
          "metadata": {}
        },
        {
          "output_type": "display_data",
          "data": {
            "text/plain": [
              "<Figure size 640x480 with 1 Axes>"
            ],
            "image/png": "[encoded data removed]"
          },
          "metadata": {}
        }
      ]
    },
    {
      "cell_type": "code",
      "source": [
        "from scipy.stats import levene\n",
        "\n",
        "rw_scores = df[df['condition'] == 'rw']['words_recalled']\n",
        "vr_scores = df[df['condition'] == 'vr']['words_recalled']\n",
        "\n",
        "levene_stat, p = levene(rw_scores, vr_scores)\n",
        "\n",
        "print(\"Levene's Test for Equality of Variances:\")\n",
        "print(f\"Statistic = {stat:.4f}, p-value = {p:.4f}\")\n",
        "\n",
        "if p > 0.05:\n",
        "    print(\"Homogeneity of variance assumption met.\")\n",
        "else:\n",
        "    print(\"Homogeneity of variance assumption NOT met.\")"
      ],
      "metadata": {
        "colab": {
          "base_uri": "https://localhost:8080/"
        },
        "id": "4J86a9_11VLs",
        "outputId": "10cf71f0-9095-4980-c73a-70acac0bb37d"
      },
      "execution_count": 7,
      "outputs": [
        {
          "output_type": "stream",
          "name": "stdout",
          "text": [
            "Levene's Test for Equality of Variances:\n",
            "Statistic = 0.9521, p-value = 0.1133\n",
            "Homogeneity of variance assumption met.\n"
          ]
        }
      ]
    },
    {
      "cell_type": "markdown",
      "source": [
        "5. Statistical test for significance between Conditions"
      ],
      "metadata": {
        "id": "QcanS_NzE0Y5"
      }
    },
    {
      "cell_type": "code",
      "source": [
        "from scipy import stats\n",
        "\n",
        "#Perform the paired-samples t-test\n",
        "t_stat, p_value = stats.ttest_rel(rw_scores, vr_scores)\n",
        "\n",
        "#Print results\n",
        "print(f\"T-statistic: {t_stat}\")\n",
        "print(f\"P-value: {p_value}\")\n",
        "\n",
        "#Check the result against the significance level of 0.05\n",
        "if p_value < 0.05:\n",
        "    print(\"Reject the null hypothesis: Significant difference between RW and VR conditions.\")\n",
        "else:\n",
        "    print(\"Fail to reject the null hypothesis: No significant difference between RW and VR conditions.\")\n",
        "\n"
      ],
      "metadata": {
        "colab": {
          "base_uri": "https://localhost:8080/"
        },
        "id": "7Ypw15wWgQLs",
        "outputId": "8deb8582-5db1-4489-b7e9-f8fa7b73e1f8"
      },
      "execution_count": 12,
      "outputs": [
        {
          "output_type": "stream",
          "name": "stdout",
          "text": [
            "T-statistic: -3.4992710611188262\n",
            "P-value: 0.0015794633016616127\n",
            "Reject the null hypothesis: Significant difference between RW and VR conditions.\n"
          ]
        }
      ]
    },
    {
      "cell_type": "code",
      "source": [
        "#Calculate the effect size\n",
        "import numpy as np\n",
        "\n",
        "diff = pivoted['vr'] - pivoted['rw']\n",
        "cohen_d = diff.mean() / diff.std(ddof=1)\n",
        "\n",
        "print(f\"Cohen's d: {cohen_d:.3f}\")"
      ],
      "metadata": {
        "colab": {
          "base_uri": "https://localhost:8080/"
        },
        "id": "dmgWijsqg35a",
        "outputId": "ac298205-747a-446e-90d1-0779e87cf8d0"
      },
      "execution_count": 13,
      "outputs": [
        {
          "output_type": "stream",
          "name": "stdout",
          "text": [
            "Cohen's d: 0.650\n"
          ]
        }
      ]
    },
    {
      "cell_type": "markdown",
      "source": [
        "6. Interpret IPQ Results to find correlations with words recalled"
      ],
      "metadata": {
        "id": "F49ihON_FhTO"
      }
    },
    {
      "cell_type": "code",
      "source": [
        "from scipy.stats import pearsonr\n",
        "\n",
        "#Filter only the VR condition, since IPQ was measured there\n",
        "vr_df = df[df[\"condition\"] == \"vr\"]\n",
        "\n",
        "#List of IPQ subscales\n",
        "ipq_columns = [\"ipq_score_sp\", \"ipq_score_inv\", \"ipq_score_real\", \"ipq_score_pr\"]\n",
        "\n",
        "#Descriptive statistics\n",
        "print(\"Descriptive Statistics for IPQ Scores in the VR Condition\")\n",
        "print(vr_df[ipq_columns].describe())\n",
        "\n",
        "#Correlation with words recalled\n",
        "print(\"Correlation of IPQ Scores with Words Recalled (VR Condition)\")\n",
        "for col in ipq_columns:\n",
        "    corr, p = pearsonr(vr_df[col], vr_df[\"words_recalled\"])\n",
        "    print(f\"{col}: r = {corr:.2f}, p = {p:.3f}\")\n"
      ],
      "metadata": {
        "colab": {
          "base_uri": "https://localhost:8080/"
        },
        "id": "3GXr6vBp3o5v",
        "outputId": "1bb226fd-c7f3-4fdc-a0c2-971bd1608452"
      },
      "execution_count": 15,
      "outputs": [
        {
          "output_type": "stream",
          "name": "stdout",
          "text": [
            "Descriptive Statistics for IPQ Scores in the VR Condition\n",
            "       ipq_score_sp  ipq_score_inv  ipq_score_real  ipq_score_pr\n",
            "count     29.000000      29.000000       29.000000     29.000000\n",
            "mean       1.710345       1.637931        0.396552      1.965517\n",
            "std        0.479840       0.625308        0.580629      0.778403\n",
            "min        0.600000       0.500000       -0.500000      1.000000\n",
            "25%        1.400000       1.250000        0.000000      1.000000\n",
            "50%        1.800000       1.500000        0.500000      2.000000\n",
            "75%        2.000000       2.250000        1.000000      3.000000\n",
            "max        2.400000       2.750000        1.500000      3.000000\n",
            "Correlation of IPQ Scores with Words Recalled (VR Condition)\n",
            "ipq_score_sp: r = 0.37, p = 0.048\n",
            "ipq_score_inv: r = 0.50, p = 0.006\n",
            "ipq_score_real: r = -0.01, p = 0.951\n",
            "ipq_score_pr: r = 0.47, p = 0.010\n"
          ]
        }
      ]
    }
  ]
}